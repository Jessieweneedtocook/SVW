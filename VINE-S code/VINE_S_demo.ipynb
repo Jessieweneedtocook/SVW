{
  "nbformat": 4,
  "nbformat_minor": 0,
  "metadata": {
    "colab": {
      "provenance": []
    },
    "kernelspec": {
      "name": "python3",
      "display_name": "Python 3"
    },
    "language_info": {
      "name": "python"
    }
  },
  "cells": [
    {
      "cell_type": "code",
      "execution_count": null,
      "metadata": {
        "colab": {
          "base_uri": "https://localhost:8080/"
        },
        "id": "m5Llv70RL7o3",
        "outputId": "24bb5f10-213f-47c9-8713-e5e990b2d09d"
      },
      "outputs": [
        {
          "output_type": "stream",
          "name": "stdout",
          "text": [
            "Cloning into 'SVW'...\n",
            "remote: Enumerating objects: 2708, done.\u001b[K\n",
            "remote: Counting objects: 100% (116/116), done.\u001b[K\n",
            "remote: Compressing objects: 100% (80/80), done.\u001b[K\n",
            "remote: Total 2708 (delta 64), reused 78 (delta 35), pack-reused 2592 (from 2)\u001b[K\n",
            "Receiving objects: 100% (2708/2708), 54.47 MiB | 28.78 MiB/s, done.\n",
            "Resolving deltas: 100% (987/987), done.\n"
          ]
        }
      ],
      "source": [
        "!git clone https://github.com/Jessieweneedtocook/SVW.git"
      ]
    },
    {
      "cell_type": "code",
      "source": [
        "%cd SVW"
      ],
      "metadata": {
        "colab": {
          "base_uri": "https://localhost:8080/"
        },
        "id": "fImz695OMFyV",
        "outputId": "fc0ebd6e-c1b6-4e0c-9528-497d589d651a"
      },
      "execution_count": null,
      "outputs": [
        {
          "output_type": "stream",
          "name": "stdout",
          "text": [
            "/content/SVW\n"
          ]
        }
      ]
    },
    {
      "cell_type": "code",
      "source": [
        "!pip install ."
      ],
      "metadata": {
        "colab": {
          "base_uri": "https://localhost:8080/"
        },
        "id": "Fc1UykbHMIir",
        "outputId": "573d6987-abb1-4462-9bb8-4b18b5cee2c7"
      },
      "execution_count": null,
      "outputs": [
        {
          "output_type": "stream",
          "name": "stdout",
          "text": [
            "Processing /content/SVW\n",
            "  Preparing metadata (setup.py) ... \u001b[?25l\u001b[?25hdone\n",
            "Collecting clip@ git+https://github.com/openai/CLIP.git (from vine==0.1.0)\n",
            "  Cloning https://github.com/openai/CLIP.git to /tmp/pip-install-rnkaaf9i/clip_8c348c9dfa5c48f899c66a93a830f093\n",
            "  Running command git clone --filter=blob:none --quiet https://github.com/openai/CLIP.git /tmp/pip-install-rnkaaf9i/clip_8c348c9dfa5c48f899c66a93a830f093\n",
            "  Resolved https://github.com/openai/CLIP.git to commit dcba3cb2e2827b402d2701e7e1c7d9fed8a20ef1\n",
            "  Preparing metadata (setup.py) ... \u001b[?25l\u001b[?25hdone\n",
            "Collecting diffusers@ git+https://github.com/Shilin-LU/VINE.git#subdirectory=diffusers (from vine==0.1.0)\n",
            "  Cloning https://github.com/Shilin-LU/VINE.git to /tmp/pip-install-rnkaaf9i/diffusers_dd37821325c046b4ae83e705d44574b3\n",
            "  Running command git clone --filter=blob:none --quiet https://github.com/Shilin-LU/VINE.git /tmp/pip-install-rnkaaf9i/diffusers_dd37821325c046b4ae83e705d44574b3\n",
            "  Resolved https://github.com/Shilin-LU/VINE.git to commit 62dbbb30aa99b83186b987697e6058cd69d267d1\n",
            "  Installing build dependencies ... \u001b[?25l\u001b[?25hdone\n",
            "  Getting requirements to build wheel ... \u001b[?25l\u001b[?25hdone\n",
            "  Preparing metadata (pyproject.toml) ... \u001b[?25l\u001b[?25hdone\n",
            "Collecting einops==0.8.0 (from vine==0.1.0)\n",
            "  Downloading einops-0.8.0-py3-none-any.whl.metadata (12 kB)\n",
            "Collecting numpy==1.26.4 (from vine==0.1.0)\n",
            "  Downloading numpy-1.26.4-cp312-cp312-manylinux_2_17_x86_64.manylinux2014_x86_64.whl.metadata (61 kB)\n",
            "\u001b[2K     \u001b[90m━━━━━━━━━━━━━━━━━━━━━━━━━━━━━━━━━━━━━━━━\u001b[0m \u001b[32m61.0/61.0 kB\u001b[0m \u001b[31m2.7 MB/s\u001b[0m eta \u001b[36m0:00:00\u001b[0m\n",
            "\u001b[?25hCollecting open-clip-torch==2.26.1 (from vine==0.1.0)\n",
            "  Downloading open_clip_torch-2.26.1-py3-none-any.whl.metadata (31 kB)\n",
            "Collecting opencv-python==4.6.0.66 (from vine==0.1.0)\n",
            "  Downloading opencv_python-4.6.0.66-cp36-abi3-manylinux_2_17_x86_64.manylinux2014_x86_64.whl.metadata (18 kB)\n",
            "Collecting pillow==10.4.0 (from vine==0.1.0)\n",
            "  Downloading pillow-10.4.0-cp312-cp312-manylinux_2_28_x86_64.whl.metadata (9.2 kB)\n",
            "Collecting scipy==1.11.1 (from vine==0.1.0)\n",
            "  Downloading scipy-1.11.1.tar.gz (56.0 MB)\n",
            "\u001b[2K     \u001b[90m━━━━━━━━━━━━━━━━━━━━━━━━━━━━━━━━━━━━━━━━\u001b[0m \u001b[32m56.0/56.0 MB\u001b[0m \u001b[31m10.6 MB/s\u001b[0m eta \u001b[36m0:00:00\u001b[0m\n",
            "\u001b[?25h  Installing build dependencies ... \u001b[?25l\u001b[?25hdone\n",
            "  Getting requirements to build wheel ... \u001b[?25l\u001b[?25hdone\n",
            "  Installing backend dependencies ... \u001b[?25l\u001b[?25hdone\n",
            "  \u001b[1;31merror\u001b[0m: \u001b[1msubprocess-exited-with-error\u001b[0m\n",
            "  \n",
            "  \u001b[31m×\u001b[0m \u001b[32mPreparing metadata \u001b[0m\u001b[1;32m(\u001b[0m\u001b[32mpyproject.toml\u001b[0m\u001b[1;32m)\u001b[0m did not run successfully.\n",
            "  \u001b[31m│\u001b[0m exit code: \u001b[1;36m1\u001b[0m\n",
            "  \u001b[31m╰─>\u001b[0m See above for output.\n",
            "  \n",
            "  \u001b[1;35mnote\u001b[0m: This error originates from a subprocess, and is likely not a problem with pip.\n",
            "  Preparing metadata (pyproject.toml) ... \u001b[?25l\u001b[?25herror\n",
            "\u001b[1;31merror\u001b[0m: \u001b[1mmetadata-generation-failed\u001b[0m\n",
            "\n",
            "\u001b[31m×\u001b[0m Encountered error while generating package metadata.\n",
            "\u001b[31m╰─>\u001b[0m See above for output.\n",
            "\n",
            "\u001b[1;35mnote\u001b[0m: This is an issue with the package mentioned above, not pip.\n",
            "\u001b[1;36mhint\u001b[0m: See above for details.\n"
          ]
        }
      ]
    },
    {
      "cell_type": "code",
      "source": [
        "import torch.nn.functional as F\n",
        "import torch.nn as nn\n",
        "import torch\n",
        "import timm\n",
        "class StabilityPredictor(nn.Module):\n",
        "    def __init__(self):\n",
        "        super().__init__()\n",
        "        self.encoder = timm.create_model(\"convnext_tiny\", pretrained=True, features_only=True)\n",
        "        self.decoder = nn.Sequential(\n",
        "            nn.Conv2d(768, 256, 3, padding=1),\n",
        "            nn.ReLU(),\n",
        "            nn.Upsample(scale_factor=2),\n",
        "            nn.Conv2d(256, 64, 3, padding=1),\n",
        "            nn.ReLU(),\n",
        "            nn.Conv2d(64, 1, 1),\n",
        "            nn.Sigmoid()\n",
        "        )\n",
        "\n",
        "    def forward(self, x):\n",
        "        x = self.encoder(x)[-1]              # [B, 96, 8, 8]\n",
        "        x = self.decoder(x)                  # [B, 1, 16, 16]\n",
        "        x = F.interpolate(x, size=(256, 256), mode='bilinear', align_corners=False)\n",
        "        return x"
      ],
      "metadata": {
        "id": "K-WxVIhvMNO6"
      },
      "execution_count": null,
      "outputs": []
    },
    {
      "cell_type": "code",
      "source": [
        "from huggingface_hub import hf_hub_download\n",
        "import torch\n",
        "\n",
        "repo_id = \"jetskieve/semantic-VINE\"\n",
        "device = \"cuda\" if torch.cuda.is_available() else \"cpu\"\n",
        "\n",
        "stabilitypred_path = hf_hub_download(repo_id, filename=\"stability_pred.pth\")\n",
        "encoder_path = hf_hub_download(repo_id, filename=\"encoder_semVINE.pth\")\n",
        "decoder_path = hf_hub_download(repo_id, filename=\"decoder_semVINE.pth\")\n",
        "\n",
        "model = StabilityPredictor().to(device)\n",
        "model.load_state_dict(torch.load(stabilitypred_path, map_location=device))\n",
        "model.eval()"
      ],
      "metadata": {
        "id": "4j_Py9MWMPim"
      },
      "execution_count": null,
      "outputs": []
    },
    {
      "cell_type": "code",
      "source": [
        "from vine.src.vine_turbo import VINE_Turbo\n",
        "import os, gc, torch\n",
        "from accelerate.utils import set_seed\n",
        "from vine.src.stega_encoder_decoder import CustomConvNeXt\n",
        "\n",
        "watermarker = VINE_Turbo(\n",
        "    ckpt_path=None,\n",
        "    device='cuda',\n",
        "    stability_predictor=model,\n",
        "    tensor_six=False\n",
        ")\n",
        "\n",
        "watermarker.load_state_dict(torch.load(encoder_path, map_location=device))\n",
        "watermarker.to(device)"
      ],
      "metadata": {
        "id": "lATr7So9M4Tl"
      },
      "execution_count": null,
      "outputs": []
    },
    {
      "cell_type": "code",
      "source": [
        "decoder = CustomConvNeXt(secret_size=100)\n",
        "decoder.convnext.classifier = nn.Sequential(\n",
        "    nn.Flatten(1),\n",
        "    nn.Linear(1024, 100, bias=True)\n",
        ")\n",
        "decoder.load_state_dict(torch.load(decoder_path, map_location=device))\n",
        "decoder.to(device)"
      ],
      "metadata": {
        "id": "BkSM8tkYM6s9"
      },
      "execution_count": null,
      "outputs": []
    },
    {
      "cell_type": "code",
      "source": [
        "message = \"Hello World!\"\n",
        "if len(message) > 12:\n",
        "    raise ValueError(\"Error: Can only encode 100 bits (12 characters)\")\n",
        "\n",
        "data = bytearray(message + \" \" * (12 - len(message)), \"utf-8\")\n",
        "packet_binary = \"\".join(format(x, \"08b\") for x in data)\n",
        "watermark = [int(x) for x in packet_binary]\n",
        "watermark.extend([0, 0, 0, 0])\n",
        "watermark = torch.tensor(watermark, dtype=torch.float).unsqueeze(0).to(device)\n",
        "groundtruth_watermark = watermark.clone()"
      ],
      "metadata": {
        "id": "THvPT0agTxsk"
      },
      "execution_count": null,
      "outputs": []
    },
    {
      "cell_type": "code",
      "source": [
        "from PIL import Image\n",
        "from torchvision import transforms\n",
        "from skimage.metrics import structural_similarity as ssim\n",
        "import time\n",
        "import shutil\n",
        "import numpy\n",
        "\n",
        "def calculate_psnr(img1, img2):\n",
        "    mse = numpy.mean((img1 - img2) ** 2)\n",
        "    if mse == 0:\n",
        "        return float('inf')\n",
        "    return 20 * numpy.log10(255.0 / numpy.sqrt(mse))\n",
        "\n",
        "ssim_values = []\n",
        "psnr_values = []\n",
        "\n",
        "\n",
        "def preprocess_image(image):\n",
        "    \"\"\"Crop to square and resize to 512x512\"\"\"\n",
        "    width, height = image.size\n",
        "    min_side = min(width, height)\n",
        "    left = (width - min_side) // 2\n",
        "    top = (height - min_side) // 2\n",
        "    right = left + min_side\n",
        "    bottom = top + min_side\n",
        "    image = image.crop((left, top, right, bottom))\n",
        "    image = image.resize((512, 512), Image.BICUBIC)\n",
        "    return image\n",
        "\n",
        "\n",
        "t_val_256 = transforms.Compose([\n",
        "    transforms.Resize((256, 256), interpolation=transforms.InterpolationMode.BICUBIC),\n",
        "    transforms.ToTensor(),\n",
        "])\n",
        "t_val_512 = transforms.Compose([\n",
        "    transforms.Resize((512, 512), interpolation=transforms.InterpolationMode.BICUBIC),\n",
        "])"
      ],
      "metadata": {
        "id": "HHx56luwUx6_"
      },
      "execution_count": null,
      "outputs": []
    },
    {
      "cell_type": "code",
      "source": [
        "input_folder = './image'\n",
        "output_folder = '/content/wm_image'\n",
        "os.makedirs(output_folder, exist_ok=True)\n",
        "if os.path.exists(output_folder):\n",
        "    shutil.rmtree(output_folder)\n",
        "    os.makedirs(output_folder)\n",
        "\n",
        "for filename in os.listdir(input_folder):\n",
        "    if filename.lower().endswith(('.png', '.jpg', '.jpeg', '.bmp', '.tiff')):\n",
        "        try:\n",
        "            input_path = os.path.join(input_folder, filename)\n",
        "            output_path = os.path.join(output_folder, filename + \"_wm.png\")\n",
        "\n",
        "            input_image_pil = Image.open(input_path).convert(\"RGB\")\n",
        "            input_image_pil = preprocess_image(input_image_pil)\n",
        "\n",
        "            resized_img = t_val_256(input_image_pil)\n",
        "            resized_img = 2.0 * resized_img - 1.0\n",
        "            input_image = transforms.ToTensor()(input_image_pil).unsqueeze(0).to(device)\n",
        "            input_image = 2.0 * input_image - 1.0\n",
        "            resized_img = resized_img.unsqueeze(0).to(device)\n",
        "\n",
        "            start_time = time.time()\n",
        "            encoded_image_256 = watermarker(resized_img, watermark)\n",
        "            end_time = time.time()\n",
        "\n",
        "            residual_256 = encoded_image_256 - resized_img\n",
        "            residual_512 = t_val_512(residual_256)\n",
        "            encoded_image = residual_512 + input_image\n",
        "            encoded_image = encoded_image * 0.5 + 0.5\n",
        "            encoded_image = torch.clamp(encoded_image, min=0.0, max=1.0)\n",
        "\n",
        "            output_pil = transforms.ToPILImage()(encoded_image[0].cpu())\n",
        "            output_pil.save(output_path)\n",
        "\n",
        "            original_np = numpy.array(input_image_pil.convert(\"L\"))\n",
        "            watermarked_np = numpy.array(output_pil.convert(\"L\"))\n",
        "\n",
        "            ssim_value = ssim(original_np, watermarked_np, data_range=255)\n",
        "            psnr_value = calculate_psnr(original_np, watermarked_np)\n",
        "\n",
        "            ssim_values.append(ssim_value)\n",
        "            psnr_values.append(psnr_value)\n",
        "\n",
        "            gc.collect()\n",
        "            torch.cuda.empty_cache()\n",
        "\n",
        "\n",
        "        except Exception as e:\n",
        "            print(f\"Error processing {filename}: {e}\")\n",
        "\n",
        "print(\"Batch watermarking completed!\")"
      ],
      "metadata": {
        "id": "ZQAktD1xT3qd"
      },
      "execution_count": null,
      "outputs": []
    },
    {
      "cell_type": "code",
      "source": [
        "if len(ssim_values) > 0 and len(psnr_values) > 0:\n",
        "    avg_ssim = sum(ssim_values) / len(ssim_values)\n",
        "    avg_psnr = sum(psnr_values) / len(psnr_values)\n",
        "    print(f\"Average SSIM: {avg_ssim:.4f}\")\n",
        "    print(f\"Average PSNR: {avg_psnr:.4f}\")"
      ],
      "metadata": {
        "id": "OdjX7JznVWiy"
      },
      "execution_count": null,
      "outputs": []
    },
    {
      "cell_type": "code",
      "source": [
        "image_dir = '/content/manipulated_wm_image'\n",
        "\n",
        "\n",
        "bit_error = []\n",
        "\n",
        "for filename in os.listdir(image_dir):\n",
        "    if filename.lower().endswith(('.png', '.jpg', '.jpeg', '.bmp', '.tiff')):\n",
        "        edited_wm_img_path = os.path.join(image_dir, filename)\n",
        "        try:\n",
        "          image = Image.open(edited_wm_img_path).convert(\"RGB\")\n",
        "          image = t_val_256(image).unsqueeze(0).to(device)\n",
        "\n",
        "          with torch.no_grad():\n",
        "                logits = decoder(image)\n",
        "                decoded_probs = torch.sigmoid(logits)\n",
        "                pred_watermark = (decoded_probs > 0.5).int().cpu().numpy().flatten().tolist()\n",
        "\n",
        "          groundtruth = groundtruth_watermark[0].cpu().detach().numpy().astype(int).tolist()\n",
        "          same_bits = sum(x == y for x, y in zip(groundtruth, pred_watermark))\n",
        "          acc = same_bits / len(groundtruth)\n",
        "          error = 1 - acc\n",
        "          bit_error.append(error)\n",
        "\n",
        "        except Exception as e:\n",
        "            print(f\"Skipping truncated or unreadable image: {filename} ({str(e)})\")\n",
        "            continue\n",
        "\n",
        "mean_error = numpy.mean(bit_error)\n",
        "print(f\"Mean Bit Error Rate: {mean_error}\")"
      ],
      "metadata": {
        "id": "kfO6shYzV3mT"
      },
      "execution_count": null,
      "outputs": []
    }
  ]
}