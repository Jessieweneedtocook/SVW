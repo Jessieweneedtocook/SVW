{
  "nbformat": 4,
  "nbformat_minor": 0,
  "metadata": {
    "colab": {
      "provenance": [],
      "gpuType": "T4"
    },
    "kernelspec": {
      "name": "python3",
      "display_name": "Python 3"
    },
    "language_info": {
      "name": "python"
    },
    "accelerator": "GPU"
  },
  "cells": [
    {
      "cell_type": "markdown",
      "source": [
        "**SetUp**"
      ],
      "metadata": {
        "id": "1LPLSthoSnPg"
      }
    },
    {
      "cell_type": "code",
      "source": [
        "!pip install compressai --quiet\n",
        "!pip install -q gdown\n",
        "!pip install diffusers transformers accelerate --quiet"
      ],
      "metadata": {
        "id": "smgYHw-JK7Qm"
      },
      "execution_count": null,
      "outputs": []
    },
    {
      "cell_type": "code",
      "source": [
        "import os\n",
        "import torch\n",
        "from PIL import Image, ImageEnhance, ImageFilter\n",
        "from torchvision import transforms\n",
        "#from compressai.zoo import cheng2020_anchor\n",
        "from tqdm import tqdm\n",
        "from google.colab import files\n",
        "import zipfile\n",
        "import random\n",
        "import torchvision.transforms.functional as TF\n",
        "import io\n",
        "import numpy as np\n",
        "import torch.nn as nn\n",
        "import torchvision.models as models\n",
        "import torchvision.transforms as transforms\n",
        "from torchvision.transforms.functional import to_pil_image"
      ],
      "metadata": {
        "id": "yhZ3OP5-K-MP"
      },
      "execution_count": null,
      "outputs": []
    },
    {
      "cell_type": "code",
      "source": [
        "from google.colab import drive\n",
        "drive.mount('/content/drive')"
      ],
      "metadata": {
        "id": "jASZDpZnmsuJ"
      },
      "execution_count": null,
      "outputs": []
    },
    {
      "cell_type": "code",
      "source": [
        "import os\n",
        "import shutil\n",
        "from glob import glob\n",
        "\n",
        "\n",
        "src_folder = '/content/drive/MyDrive/watermarked/VineSem'\n",
        "dst_folder = \"/content/data\"\n",
        "\n",
        "\n",
        "os.makedirs(dst_folder, exist_ok=True)\n",
        "\n",
        "image_extensions = (\"*.jpg\", \"*.jpeg\", \"*.png\")\n",
        "image_files = []\n",
        "for ext in image_extensions:\n",
        "    image_files.extend(glob(os.path.join(src_folder, ext)))\n",
        "\n",
        "\n",
        "for file in image_files:\n",
        "    shutil.copy(file, dst_folder)\n",
        "\n",
        "print(f\"✅ Copied {len(image_files)} images to {dst_folder}\")\n"
      ],
      "metadata": {
        "id": "MaR8L93Lm38F"
      },
      "execution_count": null,
      "outputs": []
    },
    {
      "cell_type": "code",
      "source": [
        "src_folder = \"/content/data\""
      ],
      "metadata": {
        "id": "Hqv5nXLMm9bB"
      },
      "execution_count": null,
      "outputs": []
    },
    {
      "cell_type": "code",
      "source": [
        "device = torch.device(\"cuda\" if torch.cuda.is_available() else \"cpu\")"
      ],
      "metadata": {
        "id": "9Szs4sPLm-49"
      },
      "execution_count": null,
      "outputs": []
    },
    {
      "cell_type": "markdown",
      "source": [
        "**AICompress**"
      ],
      "metadata": {
        "id": "tPgAFJmDDwSe"
      }
    },
    {
      "cell_type": "code",
      "source": [
        "from compressai.zoo import cheng2020_anchor\n",
        "def compute_padding(h_w, factor=64):\n",
        "    h, w = h_w\n",
        "    pad_h = (factor - h % factor) % factor\n",
        "    pad_w = (factor - w % factor) % factor\n",
        "    return (0, pad_w, 0, pad_h)\n",
        "\n",
        "\n",
        "output_folder = \"/content/drive/MyDrive/edits/1inoutputs/AICompress\"\n",
        "os.makedirs(output_folder, exist_ok=True)\n",
        "\n",
        "device = \"cuda\" if torch.cuda.is_available() else \"cpu\"\n",
        "model = cheng2020_anchor(quality=4, pretrained=True).eval().to(device)\n",
        "\n",
        "transform = transforms.Compose([\n",
        "    transforms.Resize((256, 256)),\n",
        "    transforms.ToTensor()\n",
        "])\n",
        "\n",
        "\n",
        "image_files = sorted([\n",
        "    f for f in os.listdir(src_folder)\n",
        "    if f.lower().endswith((\".jpg\", \".jpeg\", \".png\"))\n",
        "])\n",
        "\n",
        "for fname in tqdm(image_files, desc=\"Compressing+Decompressing\"):\n",
        "    try:\n",
        "        img_path = os.path.join(src_folder, fname)\n",
        "        img = Image.open(img_path).convert(\"RGB\")\n",
        "        x = transform(img).unsqueeze(0).to(device)\n",
        "\n",
        "\n",
        "        pad = compute_padding(x.shape[-2:], factor=64)\n",
        "        x_padded = torch.nn.functional.pad(x, pad, mode=\"constant\", value=0)\n",
        "\n",
        "\n",
        "        with torch.no_grad():\n",
        "            out_enc = model.compress(x_padded)\n",
        "            out_dec = model.decompress(out_enc[\"strings\"], out_enc[\"shape\"])\n",
        "            x_hat = out_dec[\"x_hat\"]\n",
        "\n",
        "        x_hat = x_hat[:, :, :x.shape[2], :x.shape[3]].squeeze().clamp(0, 1).cpu()\n",
        "        output_img = transforms.ToPILImage()(x_hat)\n",
        "\n",
        "        output_img.save(os.path.join(output_folder, fname))\n",
        "\n",
        "    except Exception as e:\n",
        "        print(f\"❌ Error processing {fname}: {e}\")"
      ],
      "metadata": {
        "id": "m_pPJyjeDvxO"
      },
      "execution_count": null,
      "outputs": []
    },
    {
      "cell_type": "markdown",
      "source": [
        "**Colour/hue distortions**"
      ],
      "metadata": {
        "id": "SzV0uaeo46Zi"
      }
    },
    {
      "cell_type": "code",
      "source": [
        "dst_folder = \"/content/drive/MyDrive/edits/1inoutputs/common_colour\"\n",
        "os.makedirs(dst_folder, exist_ok=True)\n",
        "\n",
        "param_ranges = {\n",
        "    \"brightness\": (0.8, 1.8),\n",
        "    \"contrast\": (0.8, 1.8),\n",
        "    \"saturation\": (0.8, 1.5),\n",
        "    \"hue_shift\": (-0.1, 0.1),\n",
        "    \"white_balance\": (0.9, 1.1),\n",
        "    \"exposure\": (0.9, 1.1),\n",
        "}\n",
        "\n",
        "def apply_color_manipulations(img):\n",
        "    ops = [\"brightness\", \"contrast\", \"saturation\", \"hue_shift\", \"white_balance\", \"exposure\"]\n",
        "    random.shuffle(ops)\n",
        "\n",
        "    for op in ops:\n",
        "        if op == \"brightness\":\n",
        "            factor = random.uniform(*param_ranges[\"brightness\"])\n",
        "            img = ImageEnhance.Brightness(img).enhance(factor)\n",
        "\n",
        "        elif op == \"contrast\":\n",
        "            factor = random.uniform(*param_ranges[\"contrast\"])\n",
        "            img = ImageEnhance.Contrast(img).enhance(factor)\n",
        "\n",
        "        elif op == \"saturation\":\n",
        "            factor = random.uniform(*param_ranges[\"saturation\"])\n",
        "            img = ImageEnhance.Color(img).enhance(factor)\n",
        "\n",
        "        elif op == \"hue_shift\":\n",
        "            hue_factor = random.uniform(*param_ranges[\"hue_shift\"])\n",
        "            img = TF.adjust_hue(img, hue_factor)\n",
        "\n",
        "        elif op == \"white_balance\":\n",
        "            factor = random.uniform(*param_ranges[\"white_balance\"])\n",
        "            r, g, b = img.split()\n",
        "            r = r.point(lambda x: min(255, x * factor))\n",
        "            b = b.point(lambda x: min(255, x / factor))\n",
        "            img = Image.merge(\"RGB\", (r, g, b))\n",
        "\n",
        "        elif op == \"exposure\":\n",
        "            factor = random.uniform(*param_ranges[\"exposure\"])\n",
        "            img = TF.adjust_gamma(img, gamma=1.0/factor)\n",
        "\n",
        "    return img\n",
        "\n",
        "for fname in sorted(os.listdir(src_folder)):\n",
        "    if not fname.lower().endswith(('.jpg', '.jpeg', '.png')):\n",
        "        continue\n",
        "\n",
        "    try:\n",
        "        img_path = os.path.join(src_folder, fname)\n",
        "        img = Image.open(img_path).convert(\"RGB\")\n",
        "        img_out = apply_color_manipulations(img)\n",
        "        img_out.save(os.path.join(dst_folder, fname))\n",
        "        print(f\"✅ Processed: {fname}\")\n",
        "\n",
        "    except Exception as e:\n",
        "        print(f\"❌ Failed on {fname}: {e}\")\n"
      ],
      "metadata": {
        "id": "RhkX8qknayLp"
      },
      "execution_count": null,
      "outputs": []
    },
    {
      "cell_type": "markdown",
      "source": [
        "**Lossy/compression distortions**"
      ],
      "metadata": {
        "id": "e-Ut9Ysd9DpU"
      }
    },
    {
      "cell_type": "code",
      "source": [
        "dst_folder = \"/content/drive/MyDrive/edits/1inoutputs/common_comp\"\n",
        "os.makedirs(dst_folder, exist_ok=True)\n",
        "\n",
        "\n",
        "\n",
        "def apply_jpeg_compression(img, quality=25):\n",
        "    buffer = io.BytesIO()\n",
        "    img.save(buffer, format=\"JPEG\", quality=quality)\n",
        "    return Image.open(buffer)\n",
        "\n",
        "def apply_webp_conversion(img):\n",
        "    buffer = io.BytesIO()\n",
        "    img.save(buffer, format=\"WEBP\", quality=30)\n",
        "    return Image.open(buffer)\n",
        "\n",
        "def apply_downscale_upscale(img, factor=4):\n",
        "    w, h = img.size\n",
        "    small = img.resize((w // factor, h // factor), Image.BILINEAR)\n",
        "    return small.resize((w, h), Image.BILINEAR)\n",
        "\n",
        "def apply_bitdepth_reduction(img, bits=4):\n",
        "    arr = np.array(img)\n",
        "    levels = 2 ** bits\n",
        "    scale = 255 // (levels - 1)\n",
        "    arr = (arr // scale) * scale\n",
        "    return Image.fromarray(arr.astype(np.uint8))\n",
        "\n",
        "# === List of distortion functions in order ===\n",
        "manipulations = [\n",
        "    apply_jpeg_compression,\n",
        "    apply_webp_conversion,\n",
        "    apply_downscale_upscale,\n",
        "    apply_bitdepth_reduction\n",
        "]\n",
        "\n",
        "img_files = sorted([f for f in os.listdir(src_folder) if f.lower().endswith(('.jpg', '.jpeg', '.png'))])\n",
        "for idx, fname in enumerate(img_files):\n",
        "    try:\n",
        "        img_path = os.path.join(src_folder, fname)\n",
        "        img = Image.open(img_path).convert(\"RGB\")\n",
        "\n",
        "        fn = manipulations[idx % len(manipulations)]\n",
        "        img_out = fn(img)\n",
        "        img_out.save(os.path.join(dst_folder, fname))\n",
        "\n",
        "        print(f\"✅ Applied {fn.__name__} to {fname}\")\n",
        "\n",
        "    except Exception as e:\n",
        "        print(f\"❌ Failed on {fname}: {e}\")"
      ],
      "metadata": {
        "id": "RhhV8x0o8Plq"
      },
      "execution_count": null,
      "outputs": []
    },
    {
      "cell_type": "markdown",
      "source": [
        "**Blur distortions**"
      ],
      "metadata": {
        "id": "CxqjG4b-93JD"
      }
    },
    {
      "cell_type": "code",
      "source": [
        "dst_folder = \"/content/drive/MyDrive/edits/1inoutputs/common_blurs\"\n",
        "os.makedirs(dst_folder, exist_ok=True)\n",
        "\n",
        "\n",
        "\n",
        "def apply_gaussian_blur(img, radius=3):\n",
        "    return img.filter(ImageFilter.GaussianBlur(radius=radius))\n",
        "\n",
        "def apply_motion_blur(img, size=7):\n",
        "    return img.filter(ImageFilter.BoxBlur(radius=size // 2))\n",
        "\n",
        "def apply_zoom_blur(img, factor=1.05, blend=0.5):\n",
        "    w, h = img.size\n",
        "    zoomed = img.resize((int(w * factor), int(h * factor)), Image.BILINEAR)\n",
        "    left = (zoomed.width - w) // 2\n",
        "    top = (zoomed.height - h) // 2\n",
        "    zoomed = zoomed.crop((left, top, left + w, top + h))\n",
        "    return Image.blend(img, zoomed, alpha=blend)\n",
        "\n",
        "blur_manipulations = [\n",
        "    apply_gaussian_blur,\n",
        "    apply_motion_blur,\n",
        "    apply_zoom_blur\n",
        "]\n",
        "\n",
        "img_files = sorted([f for f in os.listdir(src_folder) if f.lower().endswith(('.jpg', '.jpeg', '.png'))])\n",
        "\n",
        "for idx, fname in enumerate(img_files):\n",
        "    try:\n",
        "        img_path = os.path.join(src_folder, fname)\n",
        "        img = Image.open(img_path).convert(\"RGB\")\n",
        "\n",
        "        fn = blur_manipulations[idx % len(blur_manipulations)]\n",
        "        img_out = fn(img)\n",
        "\n",
        "        img_out.save(os.path.join(dst_folder, fname))\n",
        "        print(f\"✅ Applied {fn.__name__} to {fname}\")\n",
        "\n",
        "    except Exception as e:\n",
        "        print(f\"❌ Failed on {fname}: {e}\")"
      ],
      "metadata": {
        "id": "uIIttl6C92rx"
      },
      "execution_count": null,
      "outputs": []
    },
    {
      "cell_type": "markdown",
      "source": [
        "**Noise Distortions**"
      ],
      "metadata": {
        "id": "RavSb16--iUN"
      }
    },
    {
      "cell_type": "code",
      "source": [
        "\n",
        "dst_folder = \"/content/drive/MyDrive/edits/1inoutputs/common_noise\"\n",
        "os.makedirs(dst_folder, exist_ok=True)\n",
        "\n",
        "\n",
        "def apply_gaussian_noise(img, std=0.05):\n",
        "    t = TF.to_tensor(img)\n",
        "    noise = torch.randn_like(t) * std\n",
        "    return TF.to_pil_image((t + noise).clamp(0, 1))\n",
        "\n",
        "def apply_speckle_noise(img, std=0.2):\n",
        "    t = TF.to_tensor(img)\n",
        "    noise = t * torch.randn_like(t) * std\n",
        "    return TF.to_pil_image((t + noise).clamp(0, 1))\n",
        "\n",
        "def apply_impulse_noise(img, amount=0.02):\n",
        "    arr = np.array(img)\n",
        "    h, w, c = arr.shape\n",
        "    num_salt = np.ceil(amount * h * w * 0.5).astype(int)\n",
        "    num_pepper = np.ceil(amount * h * w * 0.5).astype(int)\n",
        "\n",
        "    coords = [np.random.randint(0, i - 1, num_salt) for i in (h, w)]\n",
        "    arr[coords[0], coords[1]] = 255\n",
        "\n",
        "    coords = [np.random.randint(0, i - 1, num_pepper) for i in (h, w)]\n",
        "    arr[coords[0], coords[1]] = 0\n",
        "\n",
        "    return Image.fromarray(arr.astype(np.uint8))\n",
        "\n",
        "def apply_banding_artifacts(img, bands=8):\n",
        "    arr = np.array(img)\n",
        "    arr = (arr // (256 // bands)) * (256 // bands)\n",
        "    return Image.fromarray(arr.astype(np.uint8))\n",
        "\n",
        "noise_manipulations = [\n",
        "    apply_gaussian_noise,\n",
        "    apply_speckle_noise,\n",
        "    apply_impulse_noise,\n",
        "    apply_banding_artifacts\n",
        "]\n",
        "\n",
        "img_files = sorted([f for f in os.listdir(src_folder) if f.lower().endswith(('.jpg', '.jpeg', '.png'))])\n",
        "\n",
        "for idx, fname in enumerate(img_files):\n",
        "    try:\n",
        "        img_path = os.path.join(src_folder, fname)\n",
        "        img = Image.open(img_path).convert(\"RGB\")\n",
        "\n",
        "        fn = noise_manipulations[idx % len(noise_manipulations)]\n",
        "        img_out = fn(img)\n",
        "\n",
        "        img_out.save(os.path.join(dst_folder, fname))\n",
        "        print(f\"✅ Applied {fn.__name__} to {fname}\")\n",
        "\n",
        "    except Exception as e:\n",
        "        print(f\"❌ Failed on {fname}: {e}\")"
      ],
      "metadata": {
        "id": "-rVWnqCK-P73"
      },
      "execution_count": null,
      "outputs": []
    }
  ]
}